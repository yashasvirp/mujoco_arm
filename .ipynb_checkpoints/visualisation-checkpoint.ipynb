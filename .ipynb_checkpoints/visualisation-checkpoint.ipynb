{
 "cells": [
  {
   "cell_type": "code",
   "execution_count": null,
   "id": "3e52c72a",
   "metadata": {},
   "outputs": [],
   "source": [
    "from gym import Env\n",
    "from gym import utils\n",
    "from gym.envs.mujoco import MujocoEnv\n",
    "import mujoco\n",
    "#from mujoco import simulate as sim"
   ]
  },
  {
   "cell_type": "code",
   "execution_count": null,
   "id": "2df266c4",
   "metadata": {},
   "outputs": [],
   "source": [
    "model = mujoco.MjModel.from_xml_path(\"arm/mujoco_arm.xml\")\n",
    "data = mujoco.MjData(model)\n",
    "gl = mujoco.GLContext(1920, 1080)\n",
    "gl.make_current()"
   ]
  },
  {
   "cell_type": "code",
   "execution_count": null,
   "id": "a8a14201",
   "metadata": {},
   "outputs": [],
   "source": [
    "data.qpos = [0, 0, 0,0]"
   ]
  },
  {
   "cell_type": "code",
   "execution_count": null,
   "id": "e37a4cf5",
   "metadata": {},
   "outputs": [],
   "source": [
    "data.qpos = [0.2, 3.14, 1.57, 1.57]\n",
    "data.qvel = [0.5, 0.5, 0.5, 0.5]\n",
    "mujoco.mj_step(model, data)\n",
    "sim.launch(model, data)"
   ]
  },
  {
   "cell_type": "code",
   "execution_count": null,
   "id": "a4cc8931",
   "metadata": {},
   "outputs": [],
   "source": [
    "mujoco.mj_forward(model, data)\n",
    "\n",
    "scene = mujoco.MjvScene(model, maxgeom=10000)\n",
    "mujoco.mjv_updateScene(\n",
    "    model, data, mujoco.MjvOption(), mujoco.MjvPerturb(),\n",
    "    mujoco.MjvCamera(), mujoco.mjtCatBit.mjCAT_ALL.value, scene)\n",
    "\n",
    "context = mujoco.MjrContext(model, mujoco.mjtFontScale.mjFONTSCALE_150.value)\n",
    "mujoco.mjr_setBuffer(mujoco.mjtFramebuffer.mjFB_OFFSCREEN.value, context)\n",
    "\n",
    "viewport = mujoco.MjrRect(0, 0, 640, 480)\n",
    "mujoco.mjr_render(viewport, scene, context)\n",
    "\n",
    "upside_down_image = np.empty((480, 640, 3), dtype=np.uint8)\n",
    "mujoco.mjr_readPixels(upside_down_image, None, viewport, context)\n",
    "PIL.Image.fromarray(np.flipud(upside_down_image))"
   ]
  },
  {
   "cell_type": "code",
   "execution_count": null,
   "id": "9ae8e450",
   "metadata": {},
   "outputs": [],
   "source": [
    "data.ctrl = [0.2,0.2,0.3,.5]\n",
    "sim.launch(model, data)"
   ]
  },
  {
   "cell_type": "code",
   "execution_count": null,
   "id": "07208740",
   "metadata": {},
   "outputs": [],
   "source": [
    "class ArmEnv(MujocoEnv, utils.EzPickle):\n",
    "    def __init__(self, path):\n",
    "        self.model = path\n",
    "        self.obs_space = self._getobs(self)"
   ]
  },
  {
   "cell_type": "code",
   "execution_count": null,
   "id": "e25469a3",
   "metadata": {},
   "outputs": [],
   "source": [
    "! code arm/mujoco_arm.xml"
   ]
  },
  {
   "cell_type": "markdown",
   "id": "81c8aae6",
   "metadata": {},
   "source": [
    "## Renderer class"
   ]
  },
  {
   "cell_type": "code",
   "execution_count": 2,
   "id": "1bb54721",
   "metadata": {},
   "outputs": [],
   "source": [
    "import numpy as np\n",
    "from typing import Callable, Optional, Union, List\n",
    "import scipy.linalg\n",
    "import mediapy as media\n",
    "import matplotlib.pyplot as plt"
   ]
  },
  {
   "cell_type": "code",
   "execution_count": null,
   "id": "3c151d7d",
   "metadata": {},
   "outputs": [],
   "source": [
    "class Renderer:\n",
    "  \"\"\"Renders MuJoCo scenes.\"\"\"\n",
    "\n",
    "  def __init__(\n",
    "      self,\n",
    "      model: mujoco.MjModel,\n",
    "      height: int = 240,\n",
    "      width: int = 320,\n",
    "      max_geom: int = 5000,\n",
    "  ) -> None:\n",
    "    \"\"\"Initializes a new `Renderer`.\n",
    "\n",
    "    Args:\n",
    "      model: an MjModel instance.\n",
    "      height: image height in pixels.\n",
    "      width: image width in pixels.\n",
    "      max_geom: integer specifying the maximum number of geoms that can be\n",
    "        rendered in the same scene.\n",
    "\n",
    "    Raises:\n",
    "      ValueError: If `camera_id` is outside the valid range, or if `width` or\n",
    "        `height` exceed the dimensions of MuJoCo's offscreen framebuffer.\n",
    "    \"\"\"\n",
    "    buffer_width = model.vis.global_.offwidth\n",
    "    buffer_height = model.vis.global_.offheight\n",
    "    if width > buffer_width:\n",
    "      raise ValueError('Image width {} > framebuffer width {}. Either reduce '\n",
    "                       'the image width or specify a larger offscreen '\n",
    "                       'framebuffer in the model XML using the clause\\n'\n",
    "                       '<visual>\\n'\n",
    "                       '  <global offwidth=\"my_width\"/>\\n'\n",
    "                       '</visual>'.format(width, buffer_width))\n",
    "    if height > buffer_height:\n",
    "      raise ValueError('Image height {} > framebuffer height {}. Either reduce '\n",
    "                       'the image height or specify a larger offscreen '\n",
    "                       'framebuffer in the model XML using the clause\\n'\n",
    "                       '<visual>\\n'\n",
    "                       '  <global offheight=\"my_height\"/>\\n'\n",
    "                       '</visual>'.format(height, buffer_height))\n",
    "\n",
    "    self._width = width\n",
    "    self._height = height\n",
    "    self._model = model\n",
    "\n",
    "    self._scene = mujoco.MjvScene(model=model, maxgeom=max_geom)\n",
    "    self._scene_option = mujoco.MjvOption()\n",
    "\n",
    "    self._rect = mujoco.MjrRect(0, 0, self._width, self._height)\n",
    "\n",
    "    # Internal buffers.\n",
    "    self._rgb_buffer = np.empty((self._height, self._width, 3), dtype=np.uint8)\n",
    "    self._depth_buffer = np.empty((self._height, self._width), dtype=np.float32)\n",
    "\n",
    "    # Create render contexts.\n",
    "    self._gl_context = mujoco.GLContext(self._width, self._height)\n",
    "    self._gl_context.make_current()\n",
    "    self._mjr_context = mujoco.MjrContext(\n",
    "        model, mujoco.mjtFontScale.mjFONTSCALE_150\n",
    "    )\n",
    "    mujoco.mjr_setBuffer(\n",
    "        mujoco.mjtFramebuffer.mjFB_OFFSCREEN, self._mjr_context\n",
    "    )\n",
    "\n",
    "  def render(self) -> np.ndarray:\n",
    "    \"\"\"Renders the scene as a numpy array of pixel values.\n",
    "\n",
    "    Returns:\n",
    "      A numpy array of pixels with dimensions (H, W, 3). The array will be\n",
    "      mutated by future calls to `render`.\n",
    "    \"\"\"\n",
    "    self._gl_context.make_current()\n",
    "\n",
    "    # Render scene and read contents of RGB buffer.\n",
    "    mujoco.mjr_render(self._rect, self._scene, self._mjr_context)\n",
    "    mujoco.mjr_readPixels(self._rgb_buffer, None, self._rect, self._mjr_context)\n",
    "\n",
    "    pixels = self._rgb_buffer\n",
    "    return np.flipud(pixels)\n",
    "\n",
    "  def update_scene(\n",
    "      self,\n",
    "      data: mujoco.MjData,\n",
    "      camera: Union[int, str, mujoco.MjvCamera] = -1,\n",
    "      scene_option: Optional[mujoco.MjvOption] = None,\n",
    "    ):\n",
    "    \"\"\"Updates geometry used for rendering.\n",
    "\n",
    "    Args:\n",
    "      data: An instance of `mujoco.MjData`.\n",
    "      camera: An instance of `mujoco.MjvCamera`, a string or an integer\n",
    "      scene_option: A custom `mujoco.MjvOption` instance to use to render\n",
    "        the scene instead of the default.\n",
    "    \"\"\"\n",
    "    if not isinstance(camera, mujoco.MjvCamera):\n",
    "      camera_id = camera\n",
    "      if isinstance(camera_id, str):\n",
    "        camera_id = self._model.camera(camera_id).id\n",
    "      if camera_id < -1:\n",
    "        raise ValueError('camera_id cannot be smaller than -1.')\n",
    "      if camera_id >= self._model.ncam:\n",
    "        raise ValueError(\n",
    "            f'model has {self._model.ncam} fixed cameras. '\n",
    "            f'camera_id={camera_id} is invalid.'\n",
    "        )\n",
    "      camera = mujoco.MjvCamera()\n",
    "      camera.fixedcamid = camera_id\n",
    "\n",
    "      # -1 corresponds to free camera.\n",
    "      if camera_id == -1:\n",
    "        camera.type = mujoco.mjtCamera.mjCAMERA_FREE\n",
    "        mujoco.mjv_defaultFreeCamera(self._model, camera)\n",
    "      # Else index into the corresponding fixed camera.\n",
    "      else:\n",
    "        camera.type = mujoco.mjtCamera.mjCAMERA_FIXED\n",
    "\n",
    "    scene_option = scene_option or self._scene_option\n",
    "    mujoco.mjv_updateScene(\n",
    "        self._model,\n",
    "        data,\n",
    "        scene_option,\n",
    "        None,\n",
    "        camera, mujoco.mjtCatBit.mjCAT_ALL,\n",
    "        self._scene,\n",
    "    )\n",
    "\n",
    "  @property\n",
    "  def scene(self) -> mujoco.MjvScene:\n",
    "    return self._scene"
   ]
  },
  {
   "cell_type": "code",
   "execution_count": null,
   "id": "ce9a96ee",
   "metadata": {},
   "outputs": [],
   "source": [
    "model = mujoco.MjModel.from_xml_path(\"arm/mujoco_arm.xml\")\n",
    "data = mujoco.MjData(model)\n",
    "renderer = Renderer(model)\n",
    "renderer"
   ]
  },
  {
   "cell_type": "code",
   "execution_count": null,
   "id": "b2e4a8b2",
   "metadata": {
    "scrolled": true
   },
   "outputs": [],
   "source": [
    "mujoco.mj_forward(model, data)\n",
    "renderer.update_scene(data)\n",
    "media.show_image(renderer.render())"
   ]
  },
  {
   "cell_type": "code",
   "execution_count": null,
   "id": "6e12857c",
   "metadata": {},
   "outputs": [],
   "source": [
    "for key in range(model.nkey):\n",
    "  mujoco.mj_resetDataKeyframe(model, data, key)\n",
    "  mujoco.mj_forward(model, data)\n",
    "  renderer.update_scene(data)\n",
    "  media.show_image(renderer.render())"
   ]
  },
  {
   "cell_type": "code",
   "execution_count": null,
   "id": "cc596776",
   "metadata": {},
   "outputs": [],
   "source": [
    "DURATION  = 3   # seconds\n",
    "FRAMERATE = 60  # Hz\n",
    "\n",
    "# Initialize to the standing-on-one-leg pose.\n",
    "mujoco.mj_resetDataKeyframe(model, data, 1)\n",
    "\n",
    "frames = []\n",
    "while data.time < DURATION:\n",
    "  # Step the simulation.\n",
    "  mujoco.mj_step(model, data)\n",
    "\n",
    "  # Render and save frames.\n",
    "  if len(frames) < data.time * FRAMERATE:\n",
    "    renderer.update_scene(data)\n",
    "    pixels = renderer.render()\n",
    "    frames.append(pixels.copy())\n",
    "\n",
    "# Display video.\n",
    "media.show_video(frames, fps=FRAMERATE)"
   ]
  }
 ],
 "metadata": {
  "kernelspec": {
   "display_name": "Python 3 (ipykernel)",
   "language": "python",
   "name": "python3"
  },
  "language_info": {
   "codemirror_mode": {
    "name": "ipython",
    "version": 3
   },
   "file_extension": ".py",
   "mimetype": "text/x-python",
   "name": "python",
   "nbconvert_exporter": "python",
   "pygments_lexer": "ipython3",
   "version": "3.8.10"
  }
 },
 "nbformat": 4,
 "nbformat_minor": 5
}
